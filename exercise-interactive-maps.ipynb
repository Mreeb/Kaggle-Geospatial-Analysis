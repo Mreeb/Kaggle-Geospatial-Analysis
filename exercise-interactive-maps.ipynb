{
 "cells": [
  {
   "cell_type": "markdown",
   "id": "493ccd9e",
   "metadata": {
    "papermill": {
     "duration": 0.01026,
     "end_time": "2022-08-24T20:53:56.014449",
     "exception": false,
     "start_time": "2022-08-24T20:53:56.004189",
     "status": "completed"
    },
    "tags": []
   },
   "source": [
    "**This notebook is an exercise in the [Geospatial Analysis](https://www.kaggle.com/learn/geospatial-analysis) course.  You can reference the tutorial at [this link](https://www.kaggle.com/alexisbcook/interactive-maps).**\n",
    "\n",
    "---\n"
   ]
  },
  {
   "cell_type": "markdown",
   "id": "5ec50c3d",
   "metadata": {
    "papermill": {
     "duration": 0.009083,
     "end_time": "2022-08-24T20:53:56.032437",
     "exception": false,
     "start_time": "2022-08-24T20:53:56.023354",
     "status": "completed"
    },
    "tags": []
   },
   "source": [
    "# Introduction\n",
    "\n",
    "You are an urban safety planner in Japan, and you are analyzing which areas of Japan need extra earthquake reinforcement.  Which areas are both high in population density and prone to earthquakes?\n",
    "\n",
    "<center>\n",
    "<img src=\"https://i.imgur.com/Kuh9gPj.png\" width=\"450\"><br/>\n",
    "</center>\n",
    "\n",
    "Before you get started, run the code cell below to set everything up."
   ]
  },
  {
   "cell_type": "code",
   "execution_count": 1,
   "id": "c3dd51c3",
   "metadata": {
    "execution": {
     "iopub.execute_input": "2022-08-24T20:53:56.051522Z",
     "iopub.status.busy": "2022-08-24T20:53:56.051020Z",
     "iopub.status.idle": "2022-08-24T20:53:57.188125Z",
     "shell.execute_reply": "2022-08-24T20:53:57.187067Z"
    },
    "papermill": {
     "duration": 1.150309,
     "end_time": "2022-08-24T20:53:57.191151",
     "exception": false,
     "start_time": "2022-08-24T20:53:56.040842",
     "status": "completed"
    },
    "tags": []
   },
   "outputs": [
    {
     "name": "stderr",
     "output_type": "stream",
     "text": [
      "/opt/conda/lib/python3.7/site-packages/geopandas/_compat.py:115: UserWarning: The Shapely GEOS version (3.9.1-CAPI-1.14.2) is incompatible with the GEOS version PyGEOS was compiled with (3.10.1-CAPI-1.16.0). Conversions between both will be slow.\n",
      "  shapely_geos_version, geos_capi_version_string\n"
     ]
    }
   ],
   "source": [
    "import pandas as pd\n",
    "import geopandas as gpd\n",
    "    \n",
    "import folium\n",
    "from folium import Choropleth\n",
    "from folium.plugins import HeatMap\n",
    "\n",
    "from learntools.core import binder\n",
    "binder.bind(globals())\n",
    "from learntools.geospatial.ex3 import *"
   ]
  },
  {
   "cell_type": "markdown",
   "id": "429bef76",
   "metadata": {
    "papermill": {
     "duration": 0.00786,
     "end_time": "2022-08-24T20:53:57.207813",
     "exception": false,
     "start_time": "2022-08-24T20:53:57.199953",
     "status": "completed"
    },
    "tags": []
   },
   "source": [
    "We define a function `embed_map()` for displaying interactive maps. It accepts two arguments: the variable containing the map, and the name of the HTML file where the map will be saved.\n",
    "\n",
    "This function ensures that the maps are visible [in all web browsers](https://github.com/python-visualization/folium/issues/812)."
   ]
  },
  {
   "cell_type": "code",
   "execution_count": 2,
   "id": "e618cec6",
   "metadata": {
    "execution": {
     "iopub.execute_input": "2022-08-24T20:53:57.227989Z",
     "iopub.status.busy": "2022-08-24T20:53:57.226857Z",
     "iopub.status.idle": "2022-08-24T20:53:57.233380Z",
     "shell.execute_reply": "2022-08-24T20:53:57.232015Z"
    },
    "papermill": {
     "duration": 0.02037,
     "end_time": "2022-08-24T20:53:57.236377",
     "exception": false,
     "start_time": "2022-08-24T20:53:57.216007",
     "status": "completed"
    },
    "tags": []
   },
   "outputs": [],
   "source": [
    "def embed_map(m, file_name):\n",
    "    from IPython.display import IFrame\n",
    "    m.save(file_name)\n",
    "    return IFrame(file_name, width='100%', height='500px')"
   ]
  },
  {
   "cell_type": "markdown",
   "id": "1fd49c6a",
   "metadata": {
    "papermill": {
     "duration": 0.008851,
     "end_time": "2022-08-24T20:53:57.253348",
     "exception": false,
     "start_time": "2022-08-24T20:53:57.244497",
     "status": "completed"
    },
    "tags": []
   },
   "source": [
    "# Exercises\n",
    "\n",
    "### 1) Do earthquakes coincide with plate boundaries?\n",
    "\n",
    "Run the code cell below to create a DataFrame `plate_boundaries` that shows global plate boundaries.  The \"coordinates\" column is a list of (latitude, longitude) locations along the boundaries."
   ]
  },
  {
   "cell_type": "code",
   "execution_count": 3,
   "id": "9e95fecb",
   "metadata": {
    "execution": {
     "iopub.execute_input": "2022-08-24T20:53:57.272226Z",
     "iopub.status.busy": "2022-08-24T20:53:57.271450Z",
     "iopub.status.idle": "2022-08-24T20:53:57.696215Z",
     "shell.execute_reply": "2022-08-24T20:53:57.695033Z"
    },
    "papermill": {
     "duration": 0.437522,
     "end_time": "2022-08-24T20:53:57.699112",
     "exception": false,
     "start_time": "2022-08-24T20:53:57.261590",
     "status": "completed"
    },
    "tags": []
   },
   "outputs": [
    {
     "data": {
      "text/html": [
       "<div>\n",
       "<style scoped>\n",
       "    .dataframe tbody tr th:only-of-type {\n",
       "        vertical-align: middle;\n",
       "    }\n",
       "\n",
       "    .dataframe tbody tr th {\n",
       "        vertical-align: top;\n",
       "    }\n",
       "\n",
       "    .dataframe thead th {\n",
       "        text-align: right;\n",
       "    }\n",
       "</style>\n",
       "<table border=\"1\" class=\"dataframe\">\n",
       "  <thead>\n",
       "    <tr style=\"text-align: right;\">\n",
       "      <th></th>\n",
       "      <th>HAZ_PLATES</th>\n",
       "      <th>HAZ_PLAT_1</th>\n",
       "      <th>HAZ_PLAT_2</th>\n",
       "      <th>Shape_Leng</th>\n",
       "      <th>coordinates</th>\n",
       "    </tr>\n",
       "  </thead>\n",
       "  <tbody>\n",
       "    <tr>\n",
       "      <th>0</th>\n",
       "      <td>TRENCH</td>\n",
       "      <td>SERAM TROUGH (ACTIVE)</td>\n",
       "      <td>6722</td>\n",
       "      <td>5.843467</td>\n",
       "      <td>[(-5.444200361999947, 133.6808931800001), (-5....</td>\n",
       "    </tr>\n",
       "    <tr>\n",
       "      <th>1</th>\n",
       "      <td>TRENCH</td>\n",
       "      <td>WETAR THRUST</td>\n",
       "      <td>6722</td>\n",
       "      <td>1.829013</td>\n",
       "      <td>[(-7.760600482999962, 125.47879802900002), (-7...</td>\n",
       "    </tr>\n",
       "    <tr>\n",
       "      <th>2</th>\n",
       "      <td>TRENCH</td>\n",
       "      <td>TRENCH WEST OF LUZON (MANILA TRENCH) NORTHERN ...</td>\n",
       "      <td>6621</td>\n",
       "      <td>6.743604</td>\n",
       "      <td>[(19.817899819000047, 120.09999798800004), (19...</td>\n",
       "    </tr>\n",
       "    <tr>\n",
       "      <th>3</th>\n",
       "      <td>TRENCH</td>\n",
       "      <td>BONIN TRENCH</td>\n",
       "      <td>9821</td>\n",
       "      <td>8.329381</td>\n",
       "      <td>[(26.175899215000072, 143.20620700100005), (26...</td>\n",
       "    </tr>\n",
       "    <tr>\n",
       "      <th>4</th>\n",
       "      <td>TRENCH</td>\n",
       "      <td>NEW GUINEA TRENCH</td>\n",
       "      <td>8001</td>\n",
       "      <td>11.998145</td>\n",
       "      <td>[(0.41880004000006466, 132.8273013480001), (0....</td>\n",
       "    </tr>\n",
       "  </tbody>\n",
       "</table>\n",
       "</div>"
      ],
      "text/plain": [
       "  HAZ_PLATES                                         HAZ_PLAT_1  HAZ_PLAT_2  \\\n",
       "0     TRENCH                              SERAM TROUGH (ACTIVE)        6722   \n",
       "1     TRENCH                                       WETAR THRUST        6722   \n",
       "2     TRENCH  TRENCH WEST OF LUZON (MANILA TRENCH) NORTHERN ...        6621   \n",
       "3     TRENCH                                       BONIN TRENCH        9821   \n",
       "4     TRENCH                                  NEW GUINEA TRENCH        8001   \n",
       "\n",
       "   Shape_Leng                                        coordinates  \n",
       "0    5.843467  [(-5.444200361999947, 133.6808931800001), (-5....  \n",
       "1    1.829013  [(-7.760600482999962, 125.47879802900002), (-7...  \n",
       "2    6.743604  [(19.817899819000047, 120.09999798800004), (19...  \n",
       "3    8.329381  [(26.175899215000072, 143.20620700100005), (26...  \n",
       "4   11.998145  [(0.41880004000006466, 132.8273013480001), (0....  "
      ]
     },
     "execution_count": 3,
     "metadata": {},
     "output_type": "execute_result"
    }
   ],
   "source": [
    "plate_boundaries = gpd.read_file(\"../input/geospatial-learn-course-data/Plate_Boundaries/Plate_Boundaries/Plate_Boundaries.shp\")\n",
    "plate_boundaries['coordinates'] = plate_boundaries.apply(lambda x: [(b,a) for (a,b) in list(x.geometry.coords)], axis='columns')\n",
    "plate_boundaries.drop('geometry', axis=1, inplace=True)\n",
    "\n",
    "plate_boundaries.head()"
   ]
  },
  {
   "cell_type": "markdown",
   "id": "c7f78d40",
   "metadata": {
    "papermill": {
     "duration": 0.008083,
     "end_time": "2022-08-24T20:53:57.715574",
     "exception": false,
     "start_time": "2022-08-24T20:53:57.707491",
     "status": "completed"
    },
    "tags": []
   },
   "source": [
    "Next, run the code cell below without changes to load the historical earthquake data into a DataFrame `earthquakes`."
   ]
  },
  {
   "cell_type": "code",
   "execution_count": 4,
   "id": "16758651",
   "metadata": {
    "execution": {
     "iopub.execute_input": "2022-08-24T20:53:57.734537Z",
     "iopub.status.busy": "2022-08-24T20:53:57.734108Z",
     "iopub.status.idle": "2022-08-24T20:53:57.792486Z",
     "shell.execute_reply": "2022-08-24T20:53:57.791060Z"
    },
    "papermill": {
     "duration": 0.07164,
     "end_time": "2022-08-24T20:53:57.795682",
     "exception": false,
     "start_time": "2022-08-24T20:53:57.724042",
     "status": "completed"
    },
    "tags": []
   },
   "outputs": [
    {
     "data": {
      "text/html": [
       "<div>\n",
       "<style scoped>\n",
       "    .dataframe tbody tr th:only-of-type {\n",
       "        vertical-align: middle;\n",
       "    }\n",
       "\n",
       "    .dataframe tbody tr th {\n",
       "        vertical-align: top;\n",
       "    }\n",
       "\n",
       "    .dataframe thead th {\n",
       "        text-align: right;\n",
       "    }\n",
       "</style>\n",
       "<table border=\"1\" class=\"dataframe\">\n",
       "  <thead>\n",
       "    <tr style=\"text-align: right;\">\n",
       "      <th></th>\n",
       "      <th>DateTime</th>\n",
       "      <th>Latitude</th>\n",
       "      <th>Longitude</th>\n",
       "      <th>Depth</th>\n",
       "      <th>Magnitude</th>\n",
       "      <th>MagType</th>\n",
       "      <th>NbStations</th>\n",
       "      <th>Gap</th>\n",
       "      <th>Distance</th>\n",
       "      <th>RMS</th>\n",
       "      <th>Source</th>\n",
       "      <th>EventID</th>\n",
       "    </tr>\n",
       "  </thead>\n",
       "  <tbody>\n",
       "    <tr>\n",
       "      <th>0</th>\n",
       "      <td>1970-01-04 17:00:40.200</td>\n",
       "      <td>24.139</td>\n",
       "      <td>102.503</td>\n",
       "      <td>31.0</td>\n",
       "      <td>7.5</td>\n",
       "      <td>Ms</td>\n",
       "      <td>90.0</td>\n",
       "      <td>NaN</td>\n",
       "      <td>NaN</td>\n",
       "      <td>0.0</td>\n",
       "      <td>NEI</td>\n",
       "      <td>1.970010e+09</td>\n",
       "    </tr>\n",
       "    <tr>\n",
       "      <th>1</th>\n",
       "      <td>1970-01-06 05:35:51.800</td>\n",
       "      <td>-9.628</td>\n",
       "      <td>151.458</td>\n",
       "      <td>8.0</td>\n",
       "      <td>6.2</td>\n",
       "      <td>Ms</td>\n",
       "      <td>85.0</td>\n",
       "      <td>NaN</td>\n",
       "      <td>NaN</td>\n",
       "      <td>0.0</td>\n",
       "      <td>NEI</td>\n",
       "      <td>1.970011e+09</td>\n",
       "    </tr>\n",
       "    <tr>\n",
       "      <th>2</th>\n",
       "      <td>1970-01-08 17:12:39.100</td>\n",
       "      <td>-34.741</td>\n",
       "      <td>178.568</td>\n",
       "      <td>179.0</td>\n",
       "      <td>6.1</td>\n",
       "      <td>Mb</td>\n",
       "      <td>59.0</td>\n",
       "      <td>NaN</td>\n",
       "      <td>NaN</td>\n",
       "      <td>0.0</td>\n",
       "      <td>NEI</td>\n",
       "      <td>1.970011e+09</td>\n",
       "    </tr>\n",
       "    <tr>\n",
       "      <th>3</th>\n",
       "      <td>1970-01-10 12:07:08.600</td>\n",
       "      <td>6.825</td>\n",
       "      <td>126.737</td>\n",
       "      <td>73.0</td>\n",
       "      <td>6.1</td>\n",
       "      <td>Mb</td>\n",
       "      <td>91.0</td>\n",
       "      <td>NaN</td>\n",
       "      <td>NaN</td>\n",
       "      <td>0.0</td>\n",
       "      <td>NEI</td>\n",
       "      <td>1.970011e+09</td>\n",
       "    </tr>\n",
       "    <tr>\n",
       "      <th>4</th>\n",
       "      <td>1970-01-16 08:05:39.000</td>\n",
       "      <td>60.280</td>\n",
       "      <td>-152.660</td>\n",
       "      <td>85.0</td>\n",
       "      <td>6.0</td>\n",
       "      <td>ML</td>\n",
       "      <td>0.0</td>\n",
       "      <td>NaN</td>\n",
       "      <td>NaN</td>\n",
       "      <td>NaN</td>\n",
       "      <td>AK</td>\n",
       "      <td>NaN</td>\n",
       "    </tr>\n",
       "  </tbody>\n",
       "</table>\n",
       "</div>"
      ],
      "text/plain": [
       "                 DateTime  Latitude  Longitude  Depth  Magnitude MagType  \\\n",
       "0 1970-01-04 17:00:40.200    24.139    102.503   31.0        7.5      Ms   \n",
       "1 1970-01-06 05:35:51.800    -9.628    151.458    8.0        6.2      Ms   \n",
       "2 1970-01-08 17:12:39.100   -34.741    178.568  179.0        6.1      Mb   \n",
       "3 1970-01-10 12:07:08.600     6.825    126.737   73.0        6.1      Mb   \n",
       "4 1970-01-16 08:05:39.000    60.280   -152.660   85.0        6.0      ML   \n",
       "\n",
       "   NbStations  Gap  Distance  RMS Source       EventID  \n",
       "0        90.0  NaN       NaN  0.0    NEI  1.970010e+09  \n",
       "1        85.0  NaN       NaN  0.0    NEI  1.970011e+09  \n",
       "2        59.0  NaN       NaN  0.0    NEI  1.970011e+09  \n",
       "3        91.0  NaN       NaN  0.0    NEI  1.970011e+09  \n",
       "4         0.0  NaN       NaN  NaN     AK           NaN  "
      ]
     },
     "execution_count": 4,
     "metadata": {},
     "output_type": "execute_result"
    }
   ],
   "source": [
    "# Load the data and print the first 5 rows\n",
    "earthquakes = pd.read_csv(\"../input/geospatial-learn-course-data/earthquakes1970-2014.csv\", parse_dates=[\"DateTime\"])\n",
    "earthquakes.head()"
   ]
  },
  {
   "cell_type": "markdown",
   "id": "1548f997",
   "metadata": {
    "papermill": {
     "duration": 0.008185,
     "end_time": "2022-08-24T20:53:57.813758",
     "exception": false,
     "start_time": "2022-08-24T20:53:57.805573",
     "status": "completed"
    },
    "tags": []
   },
   "source": [
    "The code cell below visualizes the plate boundaries on a map.  Use all of the earthquake data to add a heatmap to the same map, to determine whether earthquakes coincide with plate boundaries.  "
   ]
  },
  {
   "cell_type": "code",
   "execution_count": 5,
   "id": "4c97491b",
   "metadata": {
    "execution": {
     "iopub.execute_input": "2022-08-24T20:53:57.834985Z",
     "iopub.status.busy": "2022-08-24T20:53:57.833186Z",
     "iopub.status.idle": "2022-08-24T20:53:58.292728Z",
     "shell.execute_reply": "2022-08-24T20:53:58.291127Z"
    },
    "papermill": {
     "duration": 0.473441,
     "end_time": "2022-08-24T20:53:58.295751",
     "exception": false,
     "start_time": "2022-08-24T20:53:57.822310",
     "status": "completed"
    },
    "tags": []
   },
   "outputs": [
    {
     "data": {
      "text/html": [
       "\n",
       "        <iframe\n",
       "            width=\"100%\"\n",
       "            height=\"500px\"\n",
       "            src=\"q_1.html\"\n",
       "            frameborder=\"0\"\n",
       "            allowfullscreen\n",
       "            \n",
       "        ></iframe>\n",
       "        "
      ],
      "text/plain": [
       "<IPython.lib.display.IFrame at 0x7f8d458a1350>"
      ]
     },
     "execution_count": 5,
     "metadata": {},
     "output_type": "execute_result"
    }
   ],
   "source": [
    "# Create a base map with plate boundaries\n",
    "m_1 = folium.Map(location=[35,136], tiles='cartodbpositron', zoom_start=5)\n",
    "for i in range(len(plate_boundaries)):\n",
    "    folium.PolyLine(locations=plate_boundaries.coordinates.iloc[i], weight=2, color='white').add_to(m_1)\n",
    "# Your code here: Add a heatmap to the map\n",
    "\n",
    "\n",
    "# Add a heatmap to the map\n",
    "HeatMap(data=earthquakes[['Latitude', 'Longitude']], radius=20).add_to(m_1)\n",
    "\n",
    "# Uncomment to see a hint\n",
    "#q_1.a.hint()\n",
    "\n",
    "# Show the map\n",
    "embed_map(m_1, 'q_1.html')"
   ]
  },
  {
   "cell_type": "code",
   "execution_count": 6,
   "id": "cca41202",
   "metadata": {
    "execution": {
     "iopub.execute_input": "2022-08-24T20:53:58.314056Z",
     "iopub.status.busy": "2022-08-24T20:53:58.313613Z",
     "iopub.status.idle": "2022-08-24T20:53:58.324018Z",
     "shell.execute_reply": "2022-08-24T20:53:58.322236Z"
    },
    "papermill": {
     "duration": 0.022946,
     "end_time": "2022-08-24T20:53:58.327022",
     "exception": false,
     "start_time": "2022-08-24T20:53:58.304076",
     "status": "completed"
    },
    "tags": []
   },
   "outputs": [
    {
     "data": {
      "application/javascript": [
       "parent.postMessage({\"jupyterEvent\": \"custom.exercise_interaction\", \"data\": {\"outcomeType\": 1, \"valueTowardsCompletion\": 1.0, \"interactionType\": 1, \"questionType\": 2, \"questionId\": \"1.1_Q1P\", \"learnToolsVersion\": \"0.3.4\", \"failureMessage\": \"\", \"exceptionClass\": \"\", \"trace\": \"\"}}, \"*\")"
      ],
      "text/plain": [
       "<IPython.core.display.Javascript object>"
      ]
     },
     "metadata": {},
     "output_type": "display_data"
    },
    {
     "data": {
      "text/markdown": [
       "<span style=\"color:#33cc33\">Thank you for creating a map!</span>"
      ],
      "text/plain": [
       "Thank you for creating a map!"
      ]
     },
     "metadata": {},
     "output_type": "display_data"
    }
   ],
   "source": [
    "# Get credit for your work after you have created a map\n",
    "q_1.a.check()\n",
    "\n",
    "# Uncomment to see our solution (your code may look different!)\n",
    "# q_1.a.solution()"
   ]
  },
  {
   "cell_type": "markdown",
   "id": "ab15ce32",
   "metadata": {
    "papermill": {
     "duration": 0.008145,
     "end_time": "2022-08-24T20:53:58.343624",
     "exception": false,
     "start_time": "2022-08-24T20:53:58.335479",
     "status": "completed"
    },
    "tags": []
   },
   "source": [
    "So, given the map above, do earthquakes coincide with plate boundaries?"
   ]
  },
  {
   "cell_type": "code",
   "execution_count": 7,
   "id": "3474efa6",
   "metadata": {
    "execution": {
     "iopub.execute_input": "2022-08-24T20:53:58.362570Z",
     "iopub.status.busy": "2022-08-24T20:53:58.362121Z",
     "iopub.status.idle": "2022-08-24T20:53:58.370876Z",
     "shell.execute_reply": "2022-08-24T20:53:58.369783Z"
    },
    "papermill": {
     "duration": 0.021322,
     "end_time": "2022-08-24T20:53:58.373273",
     "exception": false,
     "start_time": "2022-08-24T20:53:58.351951",
     "status": "completed"
    },
    "tags": []
   },
   "outputs": [
    {
     "data": {
      "application/javascript": [
       "parent.postMessage({\"jupyterEvent\": \"custom.exercise_interaction\", \"data\": {\"interactionType\": 3, \"questionType\": 4, \"questionId\": \"1.2_Q1T\", \"learnToolsVersion\": \"0.3.4\", \"valueTowardsCompletion\": 0.0, \"failureMessage\": \"\", \"exceptionClass\": \"\", \"trace\": \"\", \"outcomeType\": 4}}, \"*\")"
      ],
      "text/plain": [
       "<IPython.core.display.Javascript object>"
      ]
     },
     "metadata": {},
     "output_type": "display_data"
    },
    {
     "data": {
      "text/markdown": [
       "<span style=\"color:#33cc99\">Solution:</span> Yes, earthquakes coincide with plate boundaries."
      ],
      "text/plain": [
       "Solution: Yes, earthquakes coincide with plate boundaries."
      ]
     },
     "metadata": {},
     "output_type": "display_data"
    }
   ],
   "source": [
    "# View the solution (Run this code cell to receive credit!)\n",
    "q_1.b.solution()"
   ]
  },
  {
   "cell_type": "markdown",
   "id": "a9016908",
   "metadata": {
    "papermill": {
     "duration": 0.008339,
     "end_time": "2022-08-24T20:53:58.390554",
     "exception": false,
     "start_time": "2022-08-24T20:53:58.382215",
     "status": "completed"
    },
    "tags": []
   },
   "source": [
    "### 2) Is there a relationship between earthquake depth and proximity to a plate boundary in Japan?\n",
    "\n",
    "You recently read that the depth of earthquakes tells us [important information](https://www.usgs.gov/faqs/what-depth-do-earthquakes-occur-what-significance-depth?qt-news_science_products=0#qt-news_science_products) about the structure of the earth.  You're interested to see if there are any intereresting global patterns, and you'd also like to understand how depth varies in Japan.\n",
    "\n"
   ]
  },
  {
   "cell_type": "code",
   "execution_count": 8,
   "id": "811d0edc",
   "metadata": {
    "execution": {
     "iopub.execute_input": "2022-08-24T20:53:58.412211Z",
     "iopub.status.busy": "2022-08-24T20:53:58.411285Z",
     "iopub.status.idle": "2022-08-24T20:54:05.260775Z",
     "shell.execute_reply": "2022-08-24T20:54:05.259493Z"
    },
    "papermill": {
     "duration": 6.863193,
     "end_time": "2022-08-24T20:54:05.264079",
     "exception": false,
     "start_time": "2022-08-24T20:53:58.400886",
     "status": "completed"
    },
    "tags": []
   },
   "outputs": [
    {
     "data": {
      "text/html": [
       "\n",
       "        <iframe\n",
       "            width=\"100%\"\n",
       "            height=\"500px\"\n",
       "            src=\"q_2.html\"\n",
       "            frameborder=\"0\"\n",
       "            allowfullscreen\n",
       "            \n",
       "        ></iframe>\n",
       "        "
      ],
      "text/plain": [
       "<IPython.lib.display.IFrame at 0x7f8d43c6a950>"
      ]
     },
     "execution_count": 8,
     "metadata": {},
     "output_type": "execute_result"
    }
   ],
   "source": [
    "# Create a base map with plate boundaries\n",
    "m_2 = folium.Map(location=[35,136], tiles='cartodbpositron', zoom_start=5)\n",
    "for i in range(len(plate_boundaries)):\n",
    "    folium.PolyLine(locations=plate_boundaries.coordinates.iloc[i], weight=2, color='black').add_to(m_2)\n",
    "    \n",
    "# Your code here: Add a map to visualize earthquake depth\n",
    "def color_assinging(val):\n",
    "    if val < 50:\n",
    "        return 'forestgreen'\n",
    "    elif val < 100:\n",
    "        return 'darkorenge'\n",
    "    else:\n",
    "        return 'darkred'\n",
    "\n",
    "for i in range(0,len(earthquakes)):\n",
    "    folium.Circle(\n",
    "    location = [earthquakes.iloc[i]['Latitude'], earthquakes.iloc[i]['Longitude']],\n",
    "    radius = 2000,\n",
    "    color = color_assinging(earthquakes.iloc[i]['Depth'])).add_to(m_2)\n",
    "\n",
    "# Uncomment to see a hint\n",
    "#q_2.a.hint()\n",
    "\n",
    "# View the map\n",
    "embed_map(m_2, 'q_2.html')"
   ]
  },
  {
   "cell_type": "code",
   "execution_count": 9,
   "id": "a022eeff",
   "metadata": {
    "execution": {
     "iopub.execute_input": "2022-08-24T20:54:05.285472Z",
     "iopub.status.busy": "2022-08-24T20:54:05.285020Z",
     "iopub.status.idle": "2022-08-24T20:54:05.295252Z",
     "shell.execute_reply": "2022-08-24T20:54:05.293730Z"
    },
    "papermill": {
     "duration": 0.024439,
     "end_time": "2022-08-24T20:54:05.298468",
     "exception": false,
     "start_time": "2022-08-24T20:54:05.274029",
     "status": "completed"
    },
    "tags": []
   },
   "outputs": [
    {
     "data": {
      "application/javascript": [
       "parent.postMessage({\"jupyterEvent\": \"custom.exercise_interaction\", \"data\": {\"outcomeType\": 1, \"valueTowardsCompletion\": 1.0, \"interactionType\": 1, \"questionType\": 2, \"questionId\": \"2.1_Q2P\", \"learnToolsVersion\": \"0.3.4\", \"failureMessage\": \"\", \"exceptionClass\": \"\", \"trace\": \"\"}}, \"*\")"
      ],
      "text/plain": [
       "<IPython.core.display.Javascript object>"
      ]
     },
     "metadata": {},
     "output_type": "display_data"
    },
    {
     "data": {
      "text/markdown": [
       "<span style=\"color:#33cc33\">Thank you for creating a map!</span>"
      ],
      "text/plain": [
       "Thank you for creating a map!"
      ]
     },
     "metadata": {},
     "output_type": "display_data"
    }
   ],
   "source": [
    "# Get credit for your work after you have created a map\n",
    "q_2.a.check()\n",
    "\n",
    "# Uncomment to see our solution (your code may look different!)\n",
    "# q_2.a.solution()"
   ]
  },
  {
   "cell_type": "markdown",
   "id": "521f5c0f",
   "metadata": {
    "papermill": {
     "duration": 0.010955,
     "end_time": "2022-08-24T20:54:05.319297",
     "exception": false,
     "start_time": "2022-08-24T20:54:05.308342",
     "status": "completed"
    },
    "tags": []
   },
   "source": [
    "Can you detect a relationship between proximity to a plate boundary and earthquake depth?  Does this pattern hold globally?  In Japan?"
   ]
  },
  {
   "cell_type": "code",
   "execution_count": 10,
   "id": "2902a5f8",
   "metadata": {
    "execution": {
     "iopub.execute_input": "2022-08-24T20:54:05.341228Z",
     "iopub.status.busy": "2022-08-24T20:54:05.340828Z",
     "iopub.status.idle": "2022-08-24T20:54:05.350359Z",
     "shell.execute_reply": "2022-08-24T20:54:05.348987Z"
    },
    "papermill": {
     "duration": 0.023933,
     "end_time": "2022-08-24T20:54:05.353233",
     "exception": false,
     "start_time": "2022-08-24T20:54:05.329300",
     "status": "completed"
    },
    "tags": []
   },
   "outputs": [
    {
     "data": {
      "application/javascript": [
       "parent.postMessage({\"jupyterEvent\": \"custom.exercise_interaction\", \"data\": {\"interactionType\": 3, \"questionType\": 4, \"questionId\": \"2.2_Q2T\", \"learnToolsVersion\": \"0.3.4\", \"valueTowardsCompletion\": 0.0, \"failureMessage\": \"\", \"exceptionClass\": \"\", \"trace\": \"\", \"outcomeType\": 4}}, \"*\")"
      ],
      "text/plain": [
       "<IPython.core.display.Javascript object>"
      ]
     },
     "metadata": {},
     "output_type": "display_data"
    },
    {
     "data": {
      "text/markdown": [
       "<span style=\"color:#33cc99\">Solution:</span> In the northern half of Japan, it does appear that earthquakes closer to plate boundaries tend to be shallower (and earthquakes farther from plate boundaries are deeper).  This pattern is repeated in other locations, such as the western coast of South America.  But, it does not hold everywhere (for instance, in China, Mongolia, and Russia)."
      ],
      "text/plain": [
       "Solution: In the northern half of Japan, it does appear that earthquakes closer to plate boundaries tend to be shallower (and earthquakes farther from plate boundaries are deeper).  This pattern is repeated in other locations, such as the western coast of South America.  But, it does not hold everywhere (for instance, in China, Mongolia, and Russia)."
      ]
     },
     "metadata": {},
     "output_type": "display_data"
    }
   ],
   "source": [
    "# View the solution (Run this code cell to receive credit!)\n",
    "q_2.b.solution()"
   ]
  },
  {
   "cell_type": "markdown",
   "id": "ac638dc3",
   "metadata": {
    "papermill": {
     "duration": 0.009474,
     "end_time": "2022-08-24T20:54:05.373371",
     "exception": false,
     "start_time": "2022-08-24T20:54:05.363897",
     "status": "completed"
    },
    "tags": []
   },
   "source": [
    "### 3) Which prefectures have high population density?\n",
    "\n",
    "Run the next code cell (without changes) to create a GeoDataFrame `prefectures` that contains the geographical boundaries of Japanese prefectures."
   ]
  },
  {
   "cell_type": "code",
   "execution_count": 11,
   "id": "4819ad94",
   "metadata": {
    "execution": {
     "iopub.execute_input": "2022-08-24T20:54:05.396969Z",
     "iopub.status.busy": "2022-08-24T20:54:05.396498Z",
     "iopub.status.idle": "2022-08-24T20:54:06.426540Z",
     "shell.execute_reply": "2022-08-24T20:54:06.425533Z"
    },
    "papermill": {
     "duration": 1.045135,
     "end_time": "2022-08-24T20:54:06.429429",
     "exception": false,
     "start_time": "2022-08-24T20:54:05.384294",
     "status": "completed"
    },
    "tags": []
   },
   "outputs": [
    {
     "data": {
      "text/html": [
       "<div>\n",
       "<style scoped>\n",
       "    .dataframe tbody tr th:only-of-type {\n",
       "        vertical-align: middle;\n",
       "    }\n",
       "\n",
       "    .dataframe tbody tr th {\n",
       "        vertical-align: top;\n",
       "    }\n",
       "\n",
       "    .dataframe thead th {\n",
       "        text-align: right;\n",
       "    }\n",
       "</style>\n",
       "<table border=\"1\" class=\"dataframe\">\n",
       "  <thead>\n",
       "    <tr style=\"text-align: right;\">\n",
       "      <th></th>\n",
       "      <th>geometry</th>\n",
       "    </tr>\n",
       "    <tr>\n",
       "      <th>prefecture</th>\n",
       "      <th></th>\n",
       "    </tr>\n",
       "  </thead>\n",
       "  <tbody>\n",
       "    <tr>\n",
       "      <th>Aichi</th>\n",
       "      <td>MULTIPOLYGON (((137.09523 34.65330, 137.09546 ...</td>\n",
       "    </tr>\n",
       "    <tr>\n",
       "      <th>Akita</th>\n",
       "      <td>MULTIPOLYGON (((139.55725 39.20330, 139.55765 ...</td>\n",
       "    </tr>\n",
       "    <tr>\n",
       "      <th>Aomori</th>\n",
       "      <td>MULTIPOLYGON (((141.39860 40.92472, 141.39806 ...</td>\n",
       "    </tr>\n",
       "    <tr>\n",
       "      <th>Chiba</th>\n",
       "      <td>MULTIPOLYGON (((139.82488 34.98967, 139.82434 ...</td>\n",
       "    </tr>\n",
       "    <tr>\n",
       "      <th>Ehime</th>\n",
       "      <td>MULTIPOLYGON (((132.55859 32.91224, 132.55904 ...</td>\n",
       "    </tr>\n",
       "  </tbody>\n",
       "</table>\n",
       "</div>"
      ],
      "text/plain": [
       "                                                     geometry\n",
       "prefecture                                                   \n",
       "Aichi       MULTIPOLYGON (((137.09523 34.65330, 137.09546 ...\n",
       "Akita       MULTIPOLYGON (((139.55725 39.20330, 139.55765 ...\n",
       "Aomori      MULTIPOLYGON (((141.39860 40.92472, 141.39806 ...\n",
       "Chiba       MULTIPOLYGON (((139.82488 34.98967, 139.82434 ...\n",
       "Ehime       MULTIPOLYGON (((132.55859 32.91224, 132.55904 ..."
      ]
     },
     "execution_count": 11,
     "metadata": {},
     "output_type": "execute_result"
    }
   ],
   "source": [
    "# GeoDataFrame with prefecture boundaries\n",
    "prefectures = gpd.read_file(\"../input/geospatial-learn-course-data/japan-prefecture-boundaries/japan-prefecture-boundaries/japan-prefecture-boundaries.shp\")\n",
    "prefectures.set_index('prefecture', inplace=True)\n",
    "prefectures.head()"
   ]
  },
  {
   "cell_type": "markdown",
   "id": "9382c784",
   "metadata": {
    "papermill": {
     "duration": 0.009147,
     "end_time": "2022-08-24T20:54:06.448209",
     "exception": false,
     "start_time": "2022-08-24T20:54:06.439062",
     "status": "completed"
    },
    "tags": []
   },
   "source": [
    "The next code cell creates a DataFrame `stats` containing the population, area (in square kilometers), and population density (per square kilometer) for each Japanese prefecture.  Run the code cell without changes."
   ]
  },
  {
   "cell_type": "code",
   "execution_count": 12,
   "id": "47ee92c9",
   "metadata": {
    "execution": {
     "iopub.execute_input": "2022-08-24T20:54:06.469574Z",
     "iopub.status.busy": "2022-08-24T20:54:06.468469Z",
     "iopub.status.idle": "2022-08-24T20:54:06.851590Z",
     "shell.execute_reply": "2022-08-24T20:54:06.850110Z"
    },
    "papermill": {
     "duration": 0.396594,
     "end_time": "2022-08-24T20:54:06.854198",
     "exception": false,
     "start_time": "2022-08-24T20:54:06.457604",
     "status": "completed"
    },
    "tags": []
   },
   "outputs": [
    {
     "data": {
      "text/html": [
       "<div>\n",
       "<style scoped>\n",
       "    .dataframe tbody tr th:only-of-type {\n",
       "        vertical-align: middle;\n",
       "    }\n",
       "\n",
       "    .dataframe tbody tr th {\n",
       "        vertical-align: top;\n",
       "    }\n",
       "\n",
       "    .dataframe thead th {\n",
       "        text-align: right;\n",
       "    }\n",
       "</style>\n",
       "<table border=\"1\" class=\"dataframe\">\n",
       "  <thead>\n",
       "    <tr style=\"text-align: right;\">\n",
       "      <th></th>\n",
       "      <th>population</th>\n",
       "      <th>area_sqkm</th>\n",
       "      <th>density</th>\n",
       "    </tr>\n",
       "    <tr>\n",
       "      <th>prefecture</th>\n",
       "      <th></th>\n",
       "      <th></th>\n",
       "      <th></th>\n",
       "    </tr>\n",
       "  </thead>\n",
       "  <tbody>\n",
       "    <tr>\n",
       "      <th>Tokyo</th>\n",
       "      <td>12868000</td>\n",
       "      <td>1800.614782</td>\n",
       "      <td>7146.448049</td>\n",
       "    </tr>\n",
       "    <tr>\n",
       "      <th>Kanagawa</th>\n",
       "      <td>8943000</td>\n",
       "      <td>2383.038975</td>\n",
       "      <td>3752.771186</td>\n",
       "    </tr>\n",
       "    <tr>\n",
       "      <th>Osaka</th>\n",
       "      <td>8801000</td>\n",
       "      <td>1923.151529</td>\n",
       "      <td>4576.342460</td>\n",
       "    </tr>\n",
       "    <tr>\n",
       "      <th>Aichi</th>\n",
       "      <td>7418000</td>\n",
       "      <td>5164.400005</td>\n",
       "      <td>1436.372085</td>\n",
       "    </tr>\n",
       "    <tr>\n",
       "      <th>Saitama</th>\n",
       "      <td>7130000</td>\n",
       "      <td>3794.036890</td>\n",
       "      <td>1879.264806</td>\n",
       "    </tr>\n",
       "  </tbody>\n",
       "</table>\n",
       "</div>"
      ],
      "text/plain": [
       "            population    area_sqkm      density\n",
       "prefecture                                      \n",
       "Tokyo         12868000  1800.614782  7146.448049\n",
       "Kanagawa       8943000  2383.038975  3752.771186\n",
       "Osaka          8801000  1923.151529  4576.342460\n",
       "Aichi          7418000  5164.400005  1436.372085\n",
       "Saitama        7130000  3794.036890  1879.264806"
      ]
     },
     "execution_count": 12,
     "metadata": {},
     "output_type": "execute_result"
    }
   ],
   "source": [
    "# DataFrame containing population of each prefecture\n",
    "population = pd.read_csv(\"../input/geospatial-learn-course-data/japan-prefecture-population.csv\")\n",
    "population.set_index('prefecture', inplace=True)\n",
    "\n",
    "# Calculate area (in square kilometers) of each prefecture\n",
    "area_sqkm = pd.Series(prefectures.geometry.to_crs(epsg=32654).area / 10**6, name='area_sqkm')\n",
    "stats = population.join(area_sqkm)\n",
    "\n",
    "# Add density (per square kilometer) of each prefecture\n",
    "stats['density'] = stats[\"population\"] / stats[\"area_sqkm\"]\n",
    "stats.head()"
   ]
  },
  {
   "cell_type": "markdown",
   "id": "6e09963d",
   "metadata": {
    "papermill": {
     "duration": 0.009334,
     "end_time": "2022-08-24T20:54:06.873143",
     "exception": false,
     "start_time": "2022-08-24T20:54:06.863809",
     "status": "completed"
    },
    "tags": []
   },
   "source": [
    "Use the next code cell to create a choropleth map to visualize population density."
   ]
  },
  {
   "cell_type": "code",
   "execution_count": 13,
   "id": "90be8e74",
   "metadata": {
    "execution": {
     "iopub.execute_input": "2022-08-24T20:54:06.895840Z",
     "iopub.status.busy": "2022-08-24T20:54:06.894049Z",
     "iopub.status.idle": "2022-08-24T20:54:13.030960Z",
     "shell.execute_reply": "2022-08-24T20:54:13.029372Z"
    },
    "papermill": {
     "duration": 6.151236,
     "end_time": "2022-08-24T20:54:13.033911",
     "exception": false,
     "start_time": "2022-08-24T20:54:06.882675",
     "status": "completed"
    },
    "tags": []
   },
   "outputs": [
    {
     "data": {
      "text/html": [
       "\n",
       "        <iframe\n",
       "            width=\"100%\"\n",
       "            height=\"500px\"\n",
       "            src=\"q_3.html\"\n",
       "            frameborder=\"0\"\n",
       "            allowfullscreen\n",
       "            \n",
       "        ></iframe>\n",
       "        "
      ],
      "text/plain": [
       "<IPython.lib.display.IFrame at 0x7f8d3e5fe290>"
      ]
     },
     "execution_count": 13,
     "metadata": {},
     "output_type": "execute_result"
    }
   ],
   "source": [
    "# Create a base map\n",
    "m_3 = folium.Map(location=[35,136], tiles='cartodbpositron', zoom_start=5)\n",
    "\n",
    "# Your code here: create a choropleth map to visualize population density\n",
    "Choropleth(\n",
    "    geo_data = prefectures['geometry'].__geo_interface__,\n",
    "    data = stats['density'],\n",
    "    key_on = 'feature.id',\n",
    "    fill_color = 'YlGnBu',\n",
    "    legend_name  = 'Population Density (per square kilometer)'\n",
    ").add_to(m_3)\n",
    "\n",
    "# Uncomment to see a hint\n",
    "# q_3.a.hint()\n",
    "\n",
    "# View the map\n",
    "embed_map(m_3, 'q_3.html')"
   ]
  },
  {
   "cell_type": "code",
   "execution_count": 14,
   "id": "09f4374e",
   "metadata": {
    "execution": {
     "iopub.execute_input": "2022-08-24T20:54:13.057247Z",
     "iopub.status.busy": "2022-08-24T20:54:13.055684Z",
     "iopub.status.idle": "2022-08-24T20:54:13.066011Z",
     "shell.execute_reply": "2022-08-24T20:54:13.064666Z"
    },
    "papermill": {
     "duration": 0.025672,
     "end_time": "2022-08-24T20:54:13.069209",
     "exception": false,
     "start_time": "2022-08-24T20:54:13.043537",
     "status": "completed"
    },
    "tags": []
   },
   "outputs": [
    {
     "data": {
      "application/javascript": [
       "parent.postMessage({\"jupyterEvent\": \"custom.exercise_interaction\", \"data\": {\"outcomeType\": 1, \"valueTowardsCompletion\": 1.0, \"interactionType\": 1, \"questionType\": 2, \"questionId\": \"3.1_Q3P\", \"learnToolsVersion\": \"0.3.4\", \"failureMessage\": \"\", \"exceptionClass\": \"\", \"trace\": \"\"}}, \"*\")"
      ],
      "text/plain": [
       "<IPython.core.display.Javascript object>"
      ]
     },
     "metadata": {},
     "output_type": "display_data"
    },
    {
     "data": {
      "text/markdown": [
       "<span style=\"color:#33cc33\">Thank you for creating a map!</span>"
      ],
      "text/plain": [
       "Thank you for creating a map!"
      ]
     },
     "metadata": {},
     "output_type": "display_data"
    }
   ],
   "source": [
    "# Get credit for your work after you have created a map\n",
    "q_3.a.check()\n",
    "\n",
    "# Uncomment to see our solution (your code may look different!)\n",
    "# q_3.a.solution()"
   ]
  },
  {
   "cell_type": "markdown",
   "id": "493eec80",
   "metadata": {
    "papermill": {
     "duration": 0.010172,
     "end_time": "2022-08-24T20:54:13.089987",
     "exception": false,
     "start_time": "2022-08-24T20:54:13.079815",
     "status": "completed"
    },
    "tags": []
   },
   "source": [
    "Which three prefectures have relatively higher density than the others?  Are they spread throughout the country, or all located in roughly the same geographical region?  (*If you're unfamiliar with Japanese geography, you might find [this map](https://en.wikipedia.org/wiki/Prefectures_of_Japan) useful to answer the questions.)*"
   ]
  },
  {
   "cell_type": "code",
   "execution_count": 15,
   "id": "8aa6a49e",
   "metadata": {
    "execution": {
     "iopub.execute_input": "2022-08-24T20:54:13.113944Z",
     "iopub.status.busy": "2022-08-24T20:54:13.112948Z",
     "iopub.status.idle": "2022-08-24T20:54:13.124086Z",
     "shell.execute_reply": "2022-08-24T20:54:13.122639Z"
    },
    "papermill": {
     "duration": 0.026602,
     "end_time": "2022-08-24T20:54:13.127155",
     "exception": false,
     "start_time": "2022-08-24T20:54:13.100553",
     "status": "completed"
    },
    "tags": []
   },
   "outputs": [
    {
     "data": {
      "application/javascript": [
       "parent.postMessage({\"jupyterEvent\": \"custom.exercise_interaction\", \"data\": {\"interactionType\": 3, \"questionType\": 4, \"questionId\": \"3.2_Q3T\", \"learnToolsVersion\": \"0.3.4\", \"valueTowardsCompletion\": 0.0, \"failureMessage\": \"\", \"exceptionClass\": \"\", \"trace\": \"\", \"outcomeType\": 4}}, \"*\")"
      ],
      "text/plain": [
       "<IPython.core.display.Javascript object>"
      ]
     },
     "metadata": {},
     "output_type": "display_data"
    },
    {
     "data": {
      "text/markdown": [
       "<span style=\"color:#33cc99\">Solution:</span> Tokyo, Kanagawa, and Osaka have the highest population density.  All of these prefectures are located in central Japan, and Tokyo and Kanagawa are adjacent."
      ],
      "text/plain": [
       "Solution: Tokyo, Kanagawa, and Osaka have the highest population density.  All of these prefectures are located in central Japan, and Tokyo and Kanagawa are adjacent."
      ]
     },
     "metadata": {},
     "output_type": "display_data"
    }
   ],
   "source": [
    "# View the solution (Run this code cell to receive credit!)\n",
    "q_3.b.solution()"
   ]
  },
  {
   "cell_type": "markdown",
   "id": "2ac6bb87",
   "metadata": {
    "papermill": {
     "duration": 0.010341,
     "end_time": "2022-08-24T20:54:13.147802",
     "exception": false,
     "start_time": "2022-08-24T20:54:13.137461",
     "status": "completed"
    },
    "tags": []
   },
   "source": [
    "### 4) Which high-density prefecture is prone to high-magnitude earthquakes?\n",
    "\n",
    "Create a map to suggest one prefecture that might benefit from earthquake reinforcement.  Your map should visualize both density and earthquake magnitude."
   ]
  },
  {
   "cell_type": "code",
   "execution_count": 16,
   "id": "81be1afe",
   "metadata": {
    "execution": {
     "iopub.execute_input": "2022-08-24T20:54:13.170924Z",
     "iopub.status.busy": "2022-08-24T20:54:13.170092Z",
     "iopub.status.idle": "2022-08-24T20:54:32.830221Z",
     "shell.execute_reply": "2022-08-24T20:54:32.828551Z"
    },
    "papermill": {
     "duration": 19.675261,
     "end_time": "2022-08-24T20:54:32.833179",
     "exception": false,
     "start_time": "2022-08-24T20:54:13.157918",
     "status": "completed"
    },
    "tags": []
   },
   "outputs": [
    {
     "data": {
      "text/html": [
       "\n",
       "        <iframe\n",
       "            width=\"100%\"\n",
       "            height=\"500px\"\n",
       "            src=\"q_4.html\"\n",
       "            frameborder=\"0\"\n",
       "            allowfullscreen\n",
       "            \n",
       "        ></iframe>\n",
       "        "
      ],
      "text/plain": [
       "<IPython.lib.display.IFrame at 0x7f8d358b5750>"
      ]
     },
     "execution_count": 16,
     "metadata": {},
     "output_type": "execute_result"
    }
   ],
   "source": [
    "# Create a base map\n",
    "m_4 = folium.Map(location=[35,136], tiles='cartodbpositron', zoom_start=5)\n",
    "\n",
    "# Your code here: create a map\n",
    "def color_(mag):\n",
    "    if mag > 6.5:\n",
    "        return 'red'\n",
    "    else:\n",
    "        return 'green'\n",
    "\n",
    "Choropleth(\n",
    "    geo_data=prefectures['geometry'].__geo_interface__,\n",
    "    data=stats['density'],\n",
    "    key_on='feature.id',\n",
    "    fill_color='BuPu',\n",
    "    legend_name= \"Population density (per square kilometer\"\n",
    ").add_to(m_4)\n",
    "\n",
    "\n",
    "for i in range(0,len(earthquakes)):\n",
    "    folium.Circle(\n",
    "        location = [earthquakes.iloc[i]['Latitude'],earthquakes.iloc[i]['Longitude']],\n",
    "        popup=(f\"{earthquakes.iloc[i]['Magnitude']} ({earthquakes.iloc[i]['DateTime'].year})\"),\n",
    "        color = color_(earthquakes.iloc[i]['Magnitude']),\n",
    "        radius = earthquakes.iloc[i]['Magnitude']**5.5,\n",
    "    ).add_to(m_4)\n",
    "# Uncomment to see a hint\n",
    "# q_4.a.hint()\n",
    "\n",
    "# View the map\n",
    "embed_map(m_4, 'q_4.html')"
   ]
  },
  {
   "cell_type": "code",
   "execution_count": 17,
   "id": "04019290",
   "metadata": {
    "execution": {
     "iopub.execute_input": "2022-08-24T20:54:32.857028Z",
     "iopub.status.busy": "2022-08-24T20:54:32.855557Z",
     "iopub.status.idle": "2022-08-24T20:54:32.865368Z",
     "shell.execute_reply": "2022-08-24T20:54:32.864048Z"
    },
    "papermill": {
     "duration": 0.024365,
     "end_time": "2022-08-24T20:54:32.868176",
     "exception": false,
     "start_time": "2022-08-24T20:54:32.843811",
     "status": "completed"
    },
    "tags": []
   },
   "outputs": [
    {
     "data": {
      "application/javascript": [
       "parent.postMessage({\"jupyterEvent\": \"custom.exercise_interaction\", \"data\": {\"outcomeType\": 1, \"valueTowardsCompletion\": 1.0, \"interactionType\": 1, \"questionType\": 2, \"questionId\": \"4.1_Q4P\", \"learnToolsVersion\": \"0.3.4\", \"failureMessage\": \"\", \"exceptionClass\": \"\", \"trace\": \"\"}}, \"*\")"
      ],
      "text/plain": [
       "<IPython.core.display.Javascript object>"
      ]
     },
     "metadata": {},
     "output_type": "display_data"
    },
    {
     "data": {
      "text/markdown": [
       "<span style=\"color:#33cc33\">Thank you for creating a map!</span>"
      ],
      "text/plain": [
       "Thank you for creating a map!"
      ]
     },
     "metadata": {},
     "output_type": "display_data"
    }
   ],
   "source": [
    "# Get credit for your work after you have created a map\n",
    "q_4.a.check()\n",
    "\n",
    "# Uncomment to see our solution (your code may look different!)\n",
    "# q_4.a.solution()"
   ]
  },
  {
   "cell_type": "markdown",
   "id": "210e66c2",
   "metadata": {
    "papermill": {
     "duration": 0.010062,
     "end_time": "2022-08-24T20:54:32.889233",
     "exception": false,
     "start_time": "2022-08-24T20:54:32.879171",
     "status": "completed"
    },
    "tags": []
   },
   "source": [
    "Which prefecture do you recommend for extra earthquake reinforcement?"
   ]
  },
  {
   "cell_type": "code",
   "execution_count": 18,
   "id": "e2a4a507",
   "metadata": {
    "execution": {
     "iopub.execute_input": "2022-08-24T20:54:32.912498Z",
     "iopub.status.busy": "2022-08-24T20:54:32.911471Z",
     "iopub.status.idle": "2022-08-24T20:54:32.922971Z",
     "shell.execute_reply": "2022-08-24T20:54:32.921559Z"
    },
    "papermill": {
     "duration": 0.025848,
     "end_time": "2022-08-24T20:54:32.925433",
     "exception": false,
     "start_time": "2022-08-24T20:54:32.899585",
     "status": "completed"
    },
    "tags": []
   },
   "outputs": [
    {
     "data": {
      "application/javascript": [
       "parent.postMessage({\"jupyterEvent\": \"custom.exercise_interaction\", \"data\": {\"interactionType\": 3, \"questionType\": 4, \"questionId\": \"4.2_Q4T\", \"learnToolsVersion\": \"0.3.4\", \"valueTowardsCompletion\": 0.0, \"failureMessage\": \"\", \"exceptionClass\": \"\", \"trace\": \"\", \"outcomeType\": 4}}, \"*\")"
      ],
      "text/plain": [
       "<IPython.core.display.Javascript object>"
      ]
     },
     "metadata": {},
     "output_type": "display_data"
    },
    {
     "data": {
      "text/markdown": [
       "<span style=\"color:#33cc99\">Solution:</span> While there's no clear, single answer to this question, there are a few reasonable options. **Tokyo** is by far the most densely populated prefecture and has also experienced a number of earthquakes.  **Osaka** is relatively less densely populated, but experienced an earthquake that was relatively stronger than those near Tokyo.  And, the long coast of **Kanagawa** (in addition to its high density and the historical proximity of strong earthquakes) might lead us to worry about the added potential tsunami risk."
      ],
      "text/plain": [
       "Solution: While there's no clear, single answer to this question, there are a few reasonable options. **Tokyo** is by far the most densely populated prefecture and has also experienced a number of earthquakes.  **Osaka** is relatively less densely populated, but experienced an earthquake that was relatively stronger than those near Tokyo.  And, the long coast of **Kanagawa** (in addition to its high density and the historical proximity of strong earthquakes) might lead us to worry about the added potential tsunami risk."
      ]
     },
     "metadata": {},
     "output_type": "display_data"
    }
   ],
   "source": [
    "# View the solution (Run this code cell to receive credit!)\n",
    "q_4.b.solution()"
   ]
  },
  {
   "cell_type": "markdown",
   "id": "0d4e646b",
   "metadata": {
    "papermill": {
     "duration": 0.010408,
     "end_time": "2022-08-24T20:54:32.946653",
     "exception": false,
     "start_time": "2022-08-24T20:54:32.936245",
     "status": "completed"
    },
    "tags": []
   },
   "source": [
    "# Keep going\n",
    "\n",
    "Learn how to convert names of places to geographic coordinates with **[geocoding](https://www.kaggle.com/alexisbcook/manipulating-geospatial-data)**.  You'll also explore special ways to join information from multiple GeoDataFrames."
   ]
  },
  {
   "cell_type": "markdown",
   "id": "616e1504",
   "metadata": {
    "papermill": {
     "duration": 0.010297,
     "end_time": "2022-08-24T20:54:32.967701",
     "exception": false,
     "start_time": "2022-08-24T20:54:32.957404",
     "status": "completed"
    },
    "tags": []
   },
   "source": [
    "---\n",
    "\n",
    "\n",
    "\n",
    "\n",
    "*Have questions or comments? Visit the [course discussion forum](https://www.kaggle.com/learn/geospatial-analysis/discussion) to chat with other learners.*"
   ]
  }
 ],
 "metadata": {
  "kernelspec": {
   "display_name": "Python 3",
   "language": "python",
   "name": "python3"
  },
  "language_info": {
   "codemirror_mode": {
    "name": "ipython",
    "version": 3
   },
   "file_extension": ".py",
   "mimetype": "text/x-python",
   "name": "python",
   "nbconvert_exporter": "python",
   "pygments_lexer": "ipython3",
   "version": "3.7.12"
  },
  "papermill": {
   "default_parameters": {},
   "duration": 49.309473,
   "end_time": "2022-08-24T20:54:35.250067",
   "environment_variables": {},
   "exception": null,
   "input_path": "__notebook__.ipynb",
   "output_path": "__notebook__.ipynb",
   "parameters": {},
   "start_time": "2022-08-24T20:53:45.940594",
   "version": "2.3.4"
  }
 },
 "nbformat": 4,
 "nbformat_minor": 5
}
